{
 "cells": [
  {
   "cell_type": "code",
   "execution_count": null,
   "metadata": {
    "scrolled": true
   },
   "outputs": [],
   "source": [
    "%load_ext autoreload\n",
    "%autoreload 2\n",
    "from superbit_lensing.utils import build_clean_tan_wcs\n",
    "from superbit_lensing.plotter import plot_kappa_with_counts, plot_kappa_with_coadd\n",
    "import numpy as np\n",
    "import matplotlib.pyplot as plt\n",
    "from scipy.ndimage import gaussian_filter\n"
   ]
  },
  {
   "cell_type": "code",
   "execution_count": null,
   "metadata": {},
   "outputs": [],
   "source": [
    "# Load data\n",
    "count_file = \"/projects/mccleary_group/saha/jobs_ngmixv2/Abell3411/b/animation/uncropped/count_Abell3411_b.fits\"\n",
    "kappa_file = \"/projects/mccleary_group/saha/jobs_ngmixv2/Abell3411/b/animation/uncropped/kappa_Abell3411_b.fits\"\n",
    "coadd_file = \"/projects/mccleary_group/saha/data/Abell3411/b/coadd/Abell3411_coadd_b.fits\"\n",
    "ctr_file = '/projects/mccleary_group/saha/codes/.empty/abellxrayds9.ctr'"
   ]
  },
  {
   "cell_type": "code",
   "execution_count": null,
   "metadata": {},
   "outputs": [],
   "source": [
    "plot_kappa_with_counts(kappa_file, count_file, figsize=(12, 12), draw_rect=False)"
   ]
  },
  {
   "cell_type": "code",
   "execution_count": null,
   "metadata": {},
   "outputs": [],
   "source": [
    "plot_kappa_with_coadd(kappa_file, coadd_file, kappa_vmax=0.1, kappa_vmin=-0.1, ctr_file=ctr_file)"
   ]
  },
  {
   "cell_type": "code",
   "execution_count": null,
   "metadata": {},
   "outputs": [],
   "source": []
  }
 ],
 "metadata": {
  "kernelspec": {
   "display_name": "Python 3 (ipykernel)",
   "language": "python",
   "name": "python3"
  },
  "language_info": {
   "codemirror_mode": {
    "name": "ipython",
    "version": 3
   },
   "file_extension": ".py",
   "mimetype": "text/x-python",
   "name": "python",
   "nbconvert_exporter": "python",
   "pygments_lexer": "ipython3",
   "version": "3.12.4"
  }
 },
 "nbformat": 4,
 "nbformat_minor": 4
}
